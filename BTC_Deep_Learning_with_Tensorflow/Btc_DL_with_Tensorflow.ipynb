{
 "cells": [
  {
   "cell_type": "code",
   "execution_count": 4,
   "metadata": {},
   "outputs": [],
   "source": [
    "import pandas as pd \n",
    "import matplotlib.pyplot as plt\n",
    "import math\n",
    "import numpy as np\n",
    "from sklearn.preprocessing import MinMaxScaler\n",
    "from tensorflow.keras.models import Sequential\n",
    "from tensorflow.keras.layers import Dense, LSTM\n",
    "import tensorflow as tf\n",
    "import datetime\n",
    "\n",
    "\n"
   ]
  },
  {
   "cell_type": "code",
   "execution_count": 5,
   "metadata": {},
   "outputs": [
    {
     "data": {
      "text/html": [
       "<div>\n",
       "<style scoped>\n",
       "    .dataframe tbody tr th:only-of-type {\n",
       "        vertical-align: middle;\n",
       "    }\n",
       "\n",
       "    .dataframe tbody tr th {\n",
       "        vertical-align: top;\n",
       "    }\n",
       "\n",
       "    .dataframe thead th {\n",
       "        text-align: right;\n",
       "    }\n",
       "</style>\n",
       "<table border=\"1\" class=\"dataframe\">\n",
       "  <thead>\n",
       "    <tr style=\"text-align: right;\">\n",
       "      <th></th>\n",
       "      <th>Timestamp</th>\n",
       "      <th>Open</th>\n",
       "      <th>High</th>\n",
       "      <th>Low</th>\n",
       "      <th>Close</th>\n",
       "      <th>Volume_(BTC)</th>\n",
       "      <th>Volume_(Currency)</th>\n",
       "      <th>Weighted_Price</th>\n",
       "    </tr>\n",
       "  </thead>\n",
       "  <tbody>\n",
       "    <tr>\n",
       "      <th>0</th>\n",
       "      <td>1325317920</td>\n",
       "      <td>4.39</td>\n",
       "      <td>4.39</td>\n",
       "      <td>4.39</td>\n",
       "      <td>4.39</td>\n",
       "      <td>0.455581</td>\n",
       "      <td>2.0</td>\n",
       "      <td>4.39</td>\n",
       "    </tr>\n",
       "    <tr>\n",
       "      <th>1</th>\n",
       "      <td>1325317980</td>\n",
       "      <td>NaN</td>\n",
       "      <td>NaN</td>\n",
       "      <td>NaN</td>\n",
       "      <td>NaN</td>\n",
       "      <td>NaN</td>\n",
       "      <td>NaN</td>\n",
       "      <td>NaN</td>\n",
       "    </tr>\n",
       "    <tr>\n",
       "      <th>2</th>\n",
       "      <td>1325318040</td>\n",
       "      <td>NaN</td>\n",
       "      <td>NaN</td>\n",
       "      <td>NaN</td>\n",
       "      <td>NaN</td>\n",
       "      <td>NaN</td>\n",
       "      <td>NaN</td>\n",
       "      <td>NaN</td>\n",
       "    </tr>\n",
       "    <tr>\n",
       "      <th>3</th>\n",
       "      <td>1325318100</td>\n",
       "      <td>NaN</td>\n",
       "      <td>NaN</td>\n",
       "      <td>NaN</td>\n",
       "      <td>NaN</td>\n",
       "      <td>NaN</td>\n",
       "      <td>NaN</td>\n",
       "      <td>NaN</td>\n",
       "    </tr>\n",
       "    <tr>\n",
       "      <th>4</th>\n",
       "      <td>1325318160</td>\n",
       "      <td>NaN</td>\n",
       "      <td>NaN</td>\n",
       "      <td>NaN</td>\n",
       "      <td>NaN</td>\n",
       "      <td>NaN</td>\n",
       "      <td>NaN</td>\n",
       "      <td>NaN</td>\n",
       "    </tr>\n",
       "  </tbody>\n",
       "</table>\n",
       "</div>"
      ],
      "text/plain": [
       "    Timestamp  Open  High   Low  Close  Volume_(BTC)  Volume_(Currency)  \\\n",
       "0  1325317920  4.39  4.39  4.39   4.39      0.455581                2.0   \n",
       "1  1325317980   NaN   NaN   NaN    NaN           NaN                NaN   \n",
       "2  1325318040   NaN   NaN   NaN    NaN           NaN                NaN   \n",
       "3  1325318100   NaN   NaN   NaN    NaN           NaN                NaN   \n",
       "4  1325318160   NaN   NaN   NaN    NaN           NaN                NaN   \n",
       "\n",
       "   Weighted_Price  \n",
       "0            4.39  \n",
       "1             NaN  \n",
       "2             NaN  \n",
       "3             NaN  \n",
       "4             NaN  "
      ]
     },
     "execution_count": 5,
     "metadata": {},
     "output_type": "execute_result"
    }
   ],
   "source": [
    "# Bring the dataset into the code\n",
    "df = pd.read_csv(\"bitstampUSD_1-min_data_2012-01-01_to_2021-03-31.csv\")\n",
    "df.head()"
   ]
  },
  {
   "cell_type": "code",
   "execution_count": null,
   "metadata": {},
   "outputs": [],
   "source": [
    "# Remove  \"NaN\" values from the dataset\n",
    "df = df.dropna()\n",
    "df.head()\n"
   ]
  },
  {
   "cell_type": "code",
   "execution_count": null,
   "metadata": {},
   "outputs": [],
   "source": [
    "# Convert the 'Timestamp' column to datetime type\n",
    "df['Date'] = pd.to_datetime(df['Timestamp'], unit='s')\n",
    "\n",
    "# Create new columns 'Date' and 'Time' using the 'Date' column\n",
    "df['Time'] = df['Date'].dt.time\n",
    "df['Date']=df['Date'].dt.floor(\"D\")\n",
    "\n",
    "df"
   ]
  },
  {
   "cell_type": "code",
   "execution_count": null,
   "metadata": {},
   "outputs": [],
   "source": [
    "# Visualize the data\n",
    "plt.figure(figsize=(30, 10))\n",
    "plt.title(\"Close Price History\", fontsize=40)\n",
    "plt.plot(df[\"Date\"], df[\"Close\"], label='Close Price')\n",
    "plt.xlabel(\"Date\", fontsize=28)\n",
    "plt.ylabel(\"Close Price USD\", fontsize=28)\n",
    "plt.legend(fontsize=30) \n",
    "plt.show()"
   ]
  },
  {
   "cell_type": "code",
   "execution_count": null,
   "metadata": {},
   "outputs": [],
   "source": [
    "# Create a new dataset containing only the \"Close\" column\n",
    "data=df.filter([\"Close\"])\n",
    "# Convert the dataset to a numpy array\n",
    "dataset=data.values\n",
    "# Calculate the training data length as 80% of the dataset length\n",
    "training_data_len=math.ceil(len(dataset) * .8)\n",
    "training_data_len"
   ]
  },
  {
   "cell_type": "code",
   "execution_count": null,
   "metadata": {},
   "outputs": [],
   "source": [
    "# Create MinMaxScaler with feature range between 0 and 1\n",
    "scaler=MinMaxScaler(feature_range=(0,1))\n",
    "\n",
    "# Fit and transform the dataset using the scaler\n",
    "scaled_data = scaler.fit_transform(dataset)\n",
    "scaled_data\n"
   ]
  },
  {
   "cell_type": "code",
   "execution_count": null,
   "metadata": {},
   "outputs": [],
   "source": [
    "# Create the training dataset\n",
    "train_data = scaled_data[0:training_data_len, :]\n",
    "\n",
    "# Split the data into x_train and y_train sets\n",
    "x_train=[]\n",
    "y_train=[]\n",
    "for i in range(60, len(train_data)):\n",
    "    x_train.append(np.array(train_data[i-60:i, 0]))\n",
    "    y_train.append(train_data[i, 0])\n",
    "    if i <= 60:\n",
    "        print(x_train)\n",
    "        print(y_train)\n",
    "        print()"
   ]
  },
  {
   "cell_type": "code",
   "execution_count": null,
   "metadata": {},
   "outputs": [],
   "source": [
    "# Convert x_train and y_train sets to numpy arrays\n",
    "x_train, y_train = np.array(x_train), np.array(y_train)\n",
    "\n"
   ]
  },
  {
   "cell_type": "code",
   "execution_count": null,
   "metadata": {},
   "outputs": [],
   "source": [
    "# Reshape x_train\n",
    "x_train = np.reshape(x_train,(x_train.shape[0], x_train.shape[1], 1 ))\n",
    "x_train.shape"
   ]
  },
  {
   "cell_type": "code",
   "execution_count": null,
   "metadata": {},
   "outputs": [],
   "source": [
    "#Create LSTM model\n",
    "model = Sequential()\n",
    "model.add(LSTM(50, return_sequences=True, input_shape=(x_train.shape[1], 1)))\n",
    "model.add(LSTM(50,return_sequences=False))\n",
    "model.add(Dense(25))\n",
    "model.add(Dense(1))"
   ]
  },
  {
   "cell_type": "code",
   "execution_count": null,
   "metadata": {},
   "outputs": [],
   "source": [
    "# Compile the model\n",
    "model.compile(optimizer='adam', loss='mean_squared_error')"
   ]
  },
  {
   "cell_type": "code",
   "execution_count": null,
   "metadata": {},
   "outputs": [],
   "source": [
    "#Train the model\n",
    "model.fit(x_train, y_train, batch_size=1, epochs=1)"
   ]
  },
  {
   "cell_type": "code",
   "execution_count": null,
   "metadata": {},
   "outputs": [],
   "source": [
    "# Extract x_test from test_data\n",
    "test_data = scaled_data[training_data_len - 60:, :]\n",
    "x_test=[]\n",
    "# Extract y_test from dataset\n",
    "y_test=dataset[training_data_len:, :]\n",
    "for i in range (60, len(test_data)):\n",
    "    x_test.append(test_data[i-60:i,0])"
   ]
  },
  {
   "cell_type": "code",
   "execution_count": null,
   "metadata": {},
   "outputs": [],
   "source": [
    "# Convert x_test to a numpy array\n",
    "x_test=np.array(x_test)"
   ]
  },
  {
   "cell_type": "code",
   "execution_count": null,
   "metadata": {},
   "outputs": [],
   "source": [
    "x_test=np.reshape(x_test, (x_test.shape[0],x_test.shape[1],1))"
   ]
  },
  {
   "cell_type": "code",
   "execution_count": null,
   "metadata": {},
   "outputs": [],
   "source": [
    "# Make predictions on the test data and inverse transform to original scale\n",
    "predictions=model.predict(x_test)\n",
    "predictions=scaler.inverse_transform(predictions)"
   ]
  },
  {
   "cell_type": "code",
   "execution_count": null,
   "metadata": {},
   "outputs": [],
   "source": [
    "# Calculate the Root Mean Squared Error (RMSE)\n",
    "rmse = np.sqrt(np.mean((predictions - y_test)**2))\n",
    "rmse"
   ]
  },
  {
   "cell_type": "code",
   "execution_count": null,
   "metadata": {},
   "outputs": [],
   "source": [
    "# Convert the 'Date' column to datetime format\n",
    "df['Date'] = pd.to_datetime(df['Date'])\n",
    "\n",
    "# Create a new column containing the 'Year' information\n",
    "df['Year'] = df['Date'].dt.year\n",
    "\n",
    "# Group the data by the 'Year' column and visualize the results\n",
    "plt.figure(figsize=(20,10))\n",
    "plt.title(\"Model\")\n",
    "plt.xlabel(\"Date\", fontsize=20)\n",
    "plt.ylabel(\"Close Price USD\", fontsize=20)\n",
    "\n",
    "# Plot the training data\n",
    "plt.plot(train['Date'], train['Close'], label='Train')\n",
    "\n",
    "# Plot the validation data\n",
    "plt.plot(valid['Date'], valid['Close'], label='Validation')\n",
    "\n",
    "# Plot the predictions\n",
    "plt.plot(valid['Date'], valid['Predictions'], label='Predictions')\n",
    "\n",
    "plt.legend()\n",
    "plt.show()"
   ]
  },
  {
   "cell_type": "code",
   "execution_count": null,
   "metadata": {},
   "outputs": [],
   "source": [
    "#Get the quote\n",
    "btc_quote=pd.read_csv(\"bitstampUSD_1-min_data_2012-01-01_to_2021-03-31.csv\")\n",
    "btc_quote=btc_quote.dropna()\n",
    "#Create new dataframe\n",
    "new_df=btc_quote.filter([\"Close\"])\n",
    "#Get the last 60 day closing price values and convert the dataframe to an array\n",
    "last_60_days=new_df[-60:].values\n",
    "#Scale the data to be values between 0 and 1 \n",
    "last_60_days_scaled=scaler.transform(last_60_days)\n",
    "#Create an empty list\n",
    "X_test=[]\n",
    "#Append the past 60 days \n",
    "X_test.append(last_60_days_scaled)\n",
    "#Convert the X_test data set to a numpy array\n",
    "X_test=np.array(X_test)\n",
    "#Reshape the data \n",
    "X_test = np.reshape(X_test,(X_test.shape[0], X_test.shape[1],1))\n",
    "#Get the predicted scaled price\n",
    "pred_price = model.predict(X_test)\n",
    "#Undo the scaling\n",
    "pred_price = scaler.inverse_transform(pred_price)\n",
    "print(pred_price)"
   ]
  },
  {
   "cell_type": "code",
   "execution_count": null,
   "metadata": {},
   "outputs": [],
   "source": [
    "def predict_future_price(model, scaler, last_60_days, target_date):\n",
    "    # Scale the last 60 days\n",
    "    last_60_days_scaled = scaler.transform(last_60_days)\n",
    "\n",
    "    # Create input data for prediction\n",
    "    X_test = []\n",
    "    X_test.append(last_60_days_scaled)\n",
    "    X_test = np.array(X_test)\n",
    "    X_test = np.reshape(X_test, (X_test.shape[0], X_test.shape[1], 1))\n",
    "\n",
    "    # Make predictions using the model\n",
    "    pred_price = model.predict(X_test)\n",
    "\n",
    "    # Inverse the scaling\n",
    "    pred_price = scaler.inverse_transform(pred_price)\n",
    "\n",
    "    # Create the prediction date\n",
    "    target_date = pd.to_datetime(target_date)\n",
    "    target_date_str = target_date.strftime(\"%Y-%m-%d\")\n",
    "\n",
    "    # Print the prediction\n",
    "    print(f\"Predicted closing price for {target_date_str}: {pred_price[0][0]}\")\n",
    "\n",
    "# Example of usage\n",
    "target_date = input(\"Write the target date \")  # Hedef tarihi belirtin\n",
    "last_60_days_for_prediction = df[df['Date'] < target_date].tail(60)  # Hedef tarih öncesindeki son 60 günü alın\n",
    "\n",
    "# Fonksiyonu kullanarak tahmin yapın\n",
    "predict_future_price(model, scaler, last_60_days_for_prediction['Close'].values.reshape(-1, 1), target_date)"
   ]
  },
  {
   "cell_type": "code",
   "execution_count": null,
   "metadata": {},
   "outputs": [],
   "source": []
  }
 ],
 "metadata": {
  "kernelspec": {
   "display_name": "Python 3",
   "language": "python",
   "name": "python3"
  },
  "language_info": {
   "codemirror_mode": {
    "name": "ipython",
    "version": 3
   },
   "file_extension": ".py",
   "mimetype": "text/x-python",
   "name": "python",
   "nbconvert_exporter": "python",
   "pygments_lexer": "ipython3",
   "version": "3.11.5"
  }
 },
 "nbformat": 4,
 "nbformat_minor": 5
}
